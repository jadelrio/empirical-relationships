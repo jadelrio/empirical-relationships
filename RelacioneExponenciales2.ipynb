{
  "nbformat": 4,
  "nbformat_minor": 0,
  "metadata": {
    "colab": {
      "name": "RelacioneExponenciales2.ipynb",
      "provenance": [],
      "collapsed_sections": []
    },
    "kernelspec": {
      "display_name": "Python 3",
      "language": "python",
      "name": "python3"
    },
    "language_info": {
      "codemirror_mode": {
        "name": "ipython",
        "version": 3
      },
      "file_extension": ".py",
      "mimetype": "text/x-python",
      "name": "python",
      "nbconvert_exporter": "python",
      "pygments_lexer": "ipython3",
      "version": "3.7.7"
    }
  },
  "cells": [
    {
      "cell_type": "markdown",
      "metadata": {
        "id": "mqDN2o-B6BSC"
      },
      "source": [
        "En esta programa se ilustra cómo usando una lista de datos se puede obtener una relación exponencial. Primero se grafican y se realiza una inspecciónen el formato gráfico para luego obtener la ecuación empírica a partir de ajustes de regresión lineal.   "
      ]
    },
    {
      "cell_type": "code",
      "metadata": {
        "id": "enfmiJY6vEu4"
      },
      "source": [
        "import matplotlib\n",
        "import matplotlib.pyplot as plt\n",
        "import numpy as np\n",
        "#matplotlib inline\n",
        "import math\n",
        "import cmath"
      ],
      "execution_count": 1,
      "outputs": []
    },
    {
      "cell_type": "markdown",
      "metadata": {
        "id": "sxhEMuhX45iw"
      },
      "source": [
        "Se defienen los arreglos. Utilizaremos los datos de casos confirmados de COVID-19 del día 8 al 16 de Abril 2019 en Morelos. Notemos que los tenemos que escribir en formato array\n"
      ]
    },
    {
      "cell_type": "code",
      "metadata": {
        "id": "Mh-cWGlw6BSa"
      },
      "source": [
        "d1=np.array([1, 2, 3, 4, 5, 6, 7, 8,9,10,11,12,13,14,15,16,17,18,19,20,21,22,23,24,25,26,27,28,29,30,31,32])\n",
        "Casos1=np.array([30,  36,  40,  43,  48,  54,  58,  62,  65,  81,  86,  90,  95,  99, 106, 123, 146, 169, 190, 194, 244, 278, 324, 366, 417, 430, 500, 553,\n",
        " 611, 655, 712, 774])"
      ],
      "execution_count": 2,
      "outputs": []
    },
    {
      "cell_type": "markdown",
      "metadata": {
        "id": "WIDLEg6i6BSl"
      },
      "source": [
        "Ahora se ejemplificará un ajuste exponencial, pero primero haremos una inspección visual de los datos"
      ]
    },
    {
      "cell_type": "code",
      "metadata": {
        "id": "32NZuQ7wTpIJ",
        "outputId": "e26993e5-0e5e-44c8-bab2-26feaf4930c9",
        "colab": {
          "base_uri": "https://localhost:8080/",
          "height": 295
        }
      },
      "source": [
        "plt.figure()\n",
        "plt.plot(d1,Casos1,'go',markersize=6)\n",
        "plt.xlabel('dias (8 de abril))')\n",
        "plt.ylabel('Casos confirmados')\n",
        "plt.title('Datos epidemia COVID 19 Morelos');\n",
        "plt.savefig('epiexpdatos.png',dpi=300)"
      ],
      "execution_count": 3,
      "outputs": [
        {
          "output_type": "display_data",
          "data": {
            "image/png": "[encoded data removed]",
            "text/plain": [
              "<Figure size 432x288 with 1 Axes>"
            ]
          },
          "metadata": {
            "needs_background": "light"
          }
        }
      ]
    },
    {
      "cell_type": "markdown",
      "metadata": {
        "id": "kJyfOeSi6BS0"
      },
      "source": [
        "Hacemos un cambio de variable con logaritmos naturales, se puede hacer con logaritmos en cualquier base."
      ]
    },
    {
      "cell_type": "code",
      "metadata": {
        "id": "xPeoA_UkYLmV"
      },
      "source": [
        "ye=np.log(Casos1) # obtener el logaritmo de los datos"
      ],
      "execution_count": 4,
      "outputs": []
    },
    {
      "cell_type": "markdown",
      "metadata": {
        "id": "LcGS5O-w6BS_"
      },
      "source": [
        "Graficamos los logaritmos de los casos contra los dias"
      ]
    },
    {
      "cell_type": "code",
      "metadata": {
        "id": "OVs8B-R5eoPM",
        "outputId": "57f9d7dd-fb2c-4dce-977c-6ceaea03c10e",
        "colab": {
          "base_uri": "https://localhost:8080/",
          "height": 295
        }
      },
      "source": [
        "plt.figure()\n",
        "plt.plot(d1,ye,'go',markersize=6)\n",
        "plt.xlabel('dias (8 de abril))')\n",
        "plt.ylabel('Casos confirmados')\n",
        "plt.title('Datos epidemia COVID 19 Morelos');\n",
        "plt.savefig('epiexplogdatos.png',dpi=300)\n"
      ],
      "execution_count": 5,
      "outputs": [
        {
          "output_type": "display_data",
          "data": {
            "image/png": "[encoded data removed]",
            "text/plain": [
              "<Figure size 432x288 with 1 Axes>"
            ]
          },
          "metadata": {
            "needs_background": "light"
          }
        }
      ]
    },
    {
      "cell_type": "markdown",
      "metadata": {
        "id": "TVdkNqGD6BTK"
      },
      "source": [
        "Observamos que visualmente podemos unir a casi todos los puntos con una recta imaginaria. Calculamos el ajuste de regresión lineal."
      ]
    },
    {
      "cell_type": "code",
      "source": [
        "# definimos la funcion regrelineal\n",
        "# en ella hemos codificado las formulas de regresion lienal por minimos cuadrados\n",
        "def regrelineal(x, y):\n",
        "    # numero de parejas de datos\n",
        "    n = np.size(x)\n",
        "    ny= np.size(y)\n",
        "    if n != ny: \n",
        "       return('no son parejas de datos')\n",
        " \n",
        "    # promedio de los arreglos x y y\n",
        "    p_x = np.mean(x)\n",
        "    p_y = np.mean(y)\n",
        " \n",
        "    # calculando la desviacion cruzada y desviacion en x\n",
        "    SS_xy = np.sum(y*x) - n*p_y*p_x\n",
        "    SS_xx = np.sum(x*x) - n*p_x*p_x\n",
        " \n",
        "    # calculo de m y b\n",
        "    p1 = SS_xy / SS_xx\n",
        "    p0 = p_y - p1*p_x\n",
        "\n",
        "    # calculo de R cuadrada\n",
        "    error = y - (p1*x + p0)\n",
        "    se = np.sum(error**2)\n",
        "    SSt = np.sum((y - p_y)**2)\n",
        "    p2 = 1- (se/SSt)\n",
        " # el resultado p0 es la ordenada al origen p1 es la pendiente y p2 es R cuadrada\n",
        "    return (p1, p0, p2)"
      ],
      "metadata": {
        "id": "yrR6hwTdnl8f"
      },
      "execution_count": 6,
      "outputs": []
    },
    {
      "cell_type": "code",
      "metadata": {
        "id": "prBkpsNzhfo2"
      },
      "source": [
        "# ajustamos la recta a los logaritmos de los datos\n",
        "q1, q0, q2 = regrelineal(d1, ye)\n",
        "#valores de y con el ajuste\n",
        "yye = q1 * d1 + q0"
      ],
      "execution_count": 7,
      "outputs": []
    },
    {
      "cell_type": "code",
      "metadata": {
        "id": "q1zQBbNrh5wP",
        "outputId": "9a40b2ea-325a-4d2a-abcf-825ebf2186ad",
        "colab": {
          "base_uri": "https://localhost:8080/",
          "height": 295
        }
      },
      "source": [
        "plt.figure()\n",
        "plt.plot(d1,yye,'r--', d1,ye,'go',markersize=6)\n",
        "plt.xlabel('dias (8 de abril))')\n",
        "plt.ylabel('Log(Casos confirmados)')\n",
        "plt.title('Datos epidemia COVID 19 Morelos');\n",
        "plt.savefig('epiexp.png',dpi=300)"
      ],
      "execution_count": 8,
      "outputs": [
        {
          "output_type": "display_data",
          "data": {
            "image/png": "[encoded data removed]",
            "text/plain": [
              "<Figure size 432x288 with 1 Axes>"
            ]
          },
          "metadata": {
            "needs_background": "light"
          }
        }
      ]
    },
    {
      "cell_type": "markdown",
      "metadata": {
        "id": "FlcTn-PI7vu1"
      },
      "source": [
        "Como observamos el ajuste de la recta y los datos parece adecuado. El calculo que sigue ilustra el crecimiento exponencial"
      ]
    },
    {
      "cell_type": "code",
      "metadata": {
        "id": "qpbOoWltjQa-",
        "outputId": "2cdb1bb5-080c-43cf-fb33-e7543c72cd07",
        "colab": {
          "base_uri": "https://localhost:8080/"
        }
      },
      "source": [
        "print('en el dia 100 habria ',int(np.exp(q1 * 100 + q0)), 'casos')"
      ],
      "execution_count": 9,
      "outputs": [
        {
          "output_type": "stream",
          "name": "stdout",
          "text": [
            "en el dia 100 habria  1060917 casos\n"
          ]
        }
      ]
    },
    {
      "cell_type": "code",
      "metadata": {
        "id": "MR2Z8gF_6BTg",
        "colab": {
          "base_uri": "https://localhost:8080/",
          "height": 295
        },
        "outputId": "872b3e74-321d-4b2e-c489-f770c5a49e69"
      },
      "source": [
        "plt.figure()\n",
        "plt.plot(d1,np.exp(yye),'r--', d1,Casos1,'go',markersize=6)\n",
        "plt.xlabel('dias (8 de abril))')\n",
        "plt.ylabel('Log(Casos confirmados)')\n",
        "plt.title('Datos epidemia COVID 19 Morelos');\n",
        "plt.savefig('epicompara.png',dpi=300)"
      ],
      "execution_count": 10,
      "outputs": [
        {
          "output_type": "display_data",
          "data": {
            "image/png": "[encoded data removed]",
            "text/plain": [
              "<Figure size 432x288 with 1 Axes>"
            ]
          },
          "metadata": {
            "needs_background": "light"
          }
        }
      ]
    },
    {
      "cell_type": "markdown",
      "metadata": {
        "id": "ecBZqjz86BTo"
      },
      "source": [
        "observamos que el ajuste en los datos sin transformar tambien parece adecuado. Los valores de la pendiente y la ordenada al origen son"
      ]
    },
    {
      "cell_type": "code",
      "metadata": {
        "id": "DRrJXBlM6BTp",
        "colab": {
          "base_uri": "https://localhost:8080/"
        },
        "outputId": "304b9c0c-e054-4634-af99-c63552a756ec"
      },
      "source": [
        "print(q1,q0, q2)"
      ],
      "execution_count": 12,
      "outputs": [
        {
          "output_type": "stream",
          "name": "stdout",
          "text": [
            "0.10597892105221812 3.2767523398769374 0.9929485858626823\n"
          ]
        }
      ]
    },
    {
      "cell_type": "markdown",
      "metadata": {
        "id": "41g85WUT6BTx"
      },
      "source": [
        "Lo valores de la constante de crecimiento y de la condicion inicial son:"
      ]
    },
    {
      "cell_type": "code",
      "metadata": {
        "id": "PeGHN0A56BTy",
        "colab": {
          "base_uri": "https://localhost:8080/"
        },
        "outputId": "715fca6a-58c0-4538-cd2c-b89b56b7874f"
      },
      "source": [
        "print(np.exp(q1),np.exp(q0))"
      ],
      "execution_count": 13,
      "outputs": [
        {
          "output_type": "stream",
          "name": "stdout",
          "text": [
            "1.111798440718255 26.489603622313073\n"
          ]
        }
      ]
    },
    {
      "cell_type": "code",
      "source": [
        "print('La calidad del ajuste se observa con un valor',q2,'de R cuadrada, mientras más cercano a 1 (-1) es mejor')"
      ],
      "metadata": {
        "colab": {
          "base_uri": "https://localhost:8080/"
        },
        "id": "rcv9i9POoRXe",
        "outputId": "c59f089c-7b73-4942-f315-c85c2167b249"
      },
      "execution_count": 15,
      "outputs": [
        {
          "output_type": "stream",
          "name": "stdout",
          "text": [
            "La calidad del ajuste se observa con un valor 0.9929485858626823 de R cuadrada, mientras más cercano a 1 (-1) es mejor\n"
          ]
        }
      ]
    }
  ]
}