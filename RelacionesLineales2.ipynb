{
  "nbformat": 4,
  "nbformat_minor": 0,
  "metadata": {
    "colab": {
      "name": "RelacionesLineales1.ipynb",
      "provenance": [],
      "collapsed_sections": []
    },
    "kernelspec": {
      "display_name": "Python 3",
      "language": "python",
      "name": "python3"
    },
    "language_info": {
      "codemirror_mode": {
        "name": "ipython",
        "version": 3
      },
      "file_extension": ".py",
      "mimetype": "text/x-python",
      "name": "python",
      "nbconvert_exporter": "python",
      "pygments_lexer": "ipython3",
      "version": "3.7.7"
    }
  },
  "cells": [
    {
      "cell_type": "markdown",
      "metadata": {
        "id": "LrOJ7YyD1p1u"
      },
      "source": [
        "En esta programa se ilustra cómo usando una lista de datos se puede obtener una relación lineal. Primero se grafican para luego obtener la ecuación empírica a partir de ajustes de regresión lineal. El encabezado del código en Python, empieza con las siguientes isntrucciones"
      ]
    },
    {
      "cell_type": "code",
      "metadata": {
        "id": "enfmiJY6vEu4"
      },
      "source": [
        "import matplotlib\n",
        "import matplotlib.pyplot as plt\n",
        "import numpy as np\n",
        "#matplotlib inline\n",
        "import math\n",
        "import cmath"
      ],
      "execution_count": 1,
      "outputs": []
    },
    {
      "cell_type": "markdown",
      "metadata": {
        "id": "sxhEMuhX45iw"
      },
      "source": [
        "Se defienen los arreglos. Utilizaremos los datos de casos confirmados de COVID-19 del día 8 al 16 de Abril 2019 en Morelos. Notemos que los tenemos que escribir en formato array"
      ]
    },
    {
      "cell_type": "code",
      "metadata": {
        "id": "nDsBMxVJvMiA"
      },
      "source": [
        "d= x=np.array([1, 2, 3, 4, 5, 6, 7, 8])\n",
        "Casos=np.array([30., 36., 40., 43., 48., 54., 58., 62.])"
      ],
      "execution_count": 2,
      "outputs": []
    },
    {
      "cell_type": "markdown",
      "metadata": {
        "id": "f_GRXzPp1p2P"
      },
      "source": [
        "Primero graficaremos los datos para intuir si hay una relación lineal"
      ]
    },
    {
      "cell_type": "code",
      "metadata": {
        "id": "k0zH8YEgB2GM",
        "colab": {
          "base_uri": "https://localhost:8080/",
          "height": 295
        },
        "outputId": "298ed319-ae59-4840-8944-456c5e875295"
      },
      "source": [
        "plt.figure() \n",
        "plt.plot(d,Casos,'go',markersize=6)\n",
        "plt.xlabel('dias (8 de abril))')\n",
        "plt.ylabel('Casos confirmados')\n",
        "plt.title('Datos epidemia COVID 19 Morelos')\n",
        "plt.savefig('epilindatos.png',dpi=300) # se salva la figura en eps con 300 dpi"
      ],
      "execution_count": 3,
      "outputs": [
        {
          "output_type": "display_data",
          "data": {
            "image/png": "[encoded data removed]",
            "text/plain": [
              "<Figure size 432x288 with 1 Axes>"
            ]
          },
          "metadata": {
            "needs_background": "light"
          }
        }
      ]
    },
    {
      "cell_type": "markdown",
      "metadata": {
        "id": "OmqpfNU41p2a"
      },
      "source": [
        "La inspección visual sugiere una relación lineal. Definiremos una función regrelineal para obtener el ajuste de regesión lineal de los datos "
      ]
    },
    {
      "cell_type": "code",
      "metadata": {
        "id": "fOe0PqLqFneg"
      },
      "source": [
        "# definimos la funcion regrelineal\n",
        "# en ella hemos codificado las formulas de regresion lienal por minimos cuadrados\n",
        "def regrelineal(x, y):\n",
        "    # numero de parejas de datos\n",
        "    n = np.size(x)\n",
        "    ny= np.size(y)\n",
        "    if n != ny: \n",
        "       return('no son parejas de datos')\n",
        " \n",
        "    # promedio de los arreglos x y y\n",
        "    p_x = np.mean(x)\n",
        "    p_y = np.mean(y)\n",
        " \n",
        "    # calculando la desviacion cruzada y desviacion en x\n",
        "    SS_xy = np.sum(y*x) - n*p_y*p_x\n",
        "    SS_xx = np.sum(x*x) - n*p_x*p_x\n",
        " \n",
        "    # calculo de m y b\n",
        "    p1 = SS_xy / SS_xx\n",
        "    p0 = p_y - p1*p_x\n",
        "\n",
        "    # calculo de R cuadrada\n",
        "    error = y - (p1*x + p0)\n",
        "    se = np.sum(error**2)\n",
        "    SSt = np.sum((y - p_y)**2)\n",
        "    p2 = 1- (se/SSt)\n",
        " # el resultado p0 es la ordenada al origen p1 es la pendiente y p2 es R cuadrada\n",
        "    return (p1, p0, p2)"
      ],
      "execution_count": 4,
      "outputs": []
    },
    {
      "cell_type": "code",
      "source": [
        "# ajustamos la recta a los datos\n",
        "p1, p0, p2 = regrelineal(d, Casos)\n",
        "#valores de y con el ajuste\n",
        "y = p1 * d + p0"
      ],
      "metadata": {
        "id": "ZnPZZd97kKmj"
      },
      "execution_count": 7,
      "outputs": []
    },
    {
      "cell_type": "code",
      "metadata": {
        "id": "oYQrxOM5F8Dc",
        "colab": {
          "base_uri": "https://localhost:8080/",
          "height": 312
        },
        "outputId": "43c760ee-94fa-4101-ca7e-967efa263649"
      },
      "source": [
        "plt.figure() \n",
        "plt.plot(d,y,'ro--',linewidth=2, markersize=6)\n",
        "plt.xlabel('dias (8 de abril))')\n",
        "plt.ylabel('Casos confirmados')\n",
        "plt.title('Datos epidemia COVID 19 Morelos')"
      ],
      "execution_count": 8,
      "outputs": [
        {
          "output_type": "execute_result",
          "data": {
            "text/plain": [
              "Text(0.5, 1.0, 'Datos epidemia COVID 19 Morelos')"
            ]
          },
          "metadata": {},
          "execution_count": 8
        },
        {
          "output_type": "display_data",
          "data": {
            "image/png": "[encoded data removed]",
            "text/plain": [
              "<Figure size 432x288 with 1 Axes>"
            ]
          },
          "metadata": {
            "needs_background": "light"
          }
        }
      ]
    },
    {
      "cell_type": "markdown",
      "metadata": {
        "id": "VrWVEGIa1p2t"
      },
      "source": [
        "Observamos los puntos alineados de acuerdo a la ecuación para y. Obtenemos los valores de la ordenada al origen y la pendiente de la línea roja"
      ]
    },
    {
      "cell_type": "code",
      "metadata": {
        "id": "dAs4YwRG1p2u",
        "colab": {
          "base_uri": "https://localhost:8080/"
        },
        "outputId": "bafc9c83-519c-471d-ddf4-5d2910d448f2"
      },
      "source": [
        "print(p0,p1)"
      ],
      "execution_count": 9,
      "outputs": [
        {
          "output_type": "stream",
          "name": "stdout",
          "text": [
            "25.964285714285715 4.535714285714286\n"
          ]
        }
      ]
    },
    {
      "cell_type": "markdown",
      "metadata": {
        "id": "lbPdI1Fx1p21"
      },
      "source": [
        "Graficamos lo Casos ( verde) y el ajuste (rojo) "
      ]
    },
    {
      "cell_type": "code",
      "metadata": {
        "id": "xXxH4yq6MYAu",
        "colab": {
          "base_uri": "https://localhost:8080/",
          "height": 295
        },
        "outputId": "7e74c003-2df2-48bf-808a-7802b1ee0621"
      },
      "source": [
        "plt.figure() \n",
        "plt.plot(x,y,'r--', x,Casos,'go',markersize=6)\n",
        "plt.xlabel('dias (8 de abril))')\n",
        "plt.ylabel('Casos confirmados')\n",
        "plt.title('Datos epidemia COVID 19 Morelos')\n",
        "plt.savefig('epilin.png',dpi=300) # se salva la figura en eps con 300 dpi"
      ],
      "execution_count": 10,
      "outputs": [
        {
          "output_type": "display_data",
          "data": {
            "image/png": "[encoded data removed]",
            "text/plain": [
              "<Figure size 432x288 with 1 Axes>"
            ]
          },
          "metadata": {
            "needs_background": "light"
          }
        }
      ]
    },
    {
      "cell_type": "markdown",
      "metadata": {
        "id": "JJ9ZDaEw1p28"
      },
      "source": [
        "Con este ajuste podríamos predecir el número de casos a los 100 días"
      ]
    },
    {
      "cell_type": "code",
      "metadata": {
        "id": "_xKAR4umPBaf",
        "colab": {
          "base_uri": "https://localhost:8080/"
        },
        "outputId": "704b3a8b-544b-46ef-eee3-52701eed5063"
      },
      "source": [
        "# en el dia 100 habria \n",
        "print('en el dia 100 habria ',int(p1 * 100 + p0), 'casos') #se manda a la pantalla combinacion de texto con lista"
      ],
      "execution_count": 11,
      "outputs": [
        {
          "output_type": "stream",
          "name": "stdout",
          "text": [
            "en el dia 100 habria  479 casos\n"
          ]
        }
      ]
    }
  ]
}